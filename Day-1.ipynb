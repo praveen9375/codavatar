{
 "cells": [
  {
   "cell_type": "code",
   "execution_count": null,
   "id": "f891300c",
   "metadata": {},
   "outputs": [],
   "source": [
    "#pip install mypy"
   ]
  },
  {
   "cell_type": "code",
   "execution_count": null,
   "id": "abf1b0e2",
   "metadata": {},
   "outputs": [],
   "source": [
    "import mypy"
   ]
  },
  {
   "cell_type": "code",
   "execution_count": null,
   "id": "c732d8b3",
   "metadata": {},
   "outputs": [],
   "source": [
    "import numpy"
   ]
  },
  {
   "cell_type": "code",
   "execution_count": null,
   "id": "4c78738b",
   "metadata": {},
   "outputs": [],
   "source": [
    "import pandas"
   ]
  },
  {
   "cell_type": "code",
   "execution_count": null,
   "id": "2d689166",
   "metadata": {},
   "outputs": [],
   "source": [
    "import pysql"
   ]
  },
  {
   "cell_type": "code",
   "execution_count": null,
   "id": "6e21f4f7",
   "metadata": {},
   "outputs": [],
   "source": []
  }
 ],
 "metadata": {
  "kernelspec": {
   "display_name": "Python 3 (ipykernel)",
   "language": "python",
   "name": "python3"
  },
  "language_info": {
   "codemirror_mode": {
    "name": "ipython",
    "version": 3
   },
   "file_extension": ".py",
   "mimetype": "text/x-python",
   "name": "python",
   "nbconvert_exporter": "python",
   "pygments_lexer": "ipython3",
   "version": "3.11.4"
  }
 },
 "nbformat": 4,
 "nbformat_minor": 5
}
