{
 "cells": [
  {
   "cell_type": "markdown",
   "id": "669edd98",
   "metadata": {},
   "source": [
    "<b>The Core SubThe Core Subsystems of the Linux Kernel are as follows:</b>\n",
    "\n",
    "1) The Process Scheduler\n",
    "2) The Memory Management Unit (MMU)\n",
    "3) The Virtual File System (VFS)\n",
    "4) The Networking Unit\n",
    "5) Inter-Process Communication Unit"
   ]
  },
  {
   "cell_type": "markdown",
   "id": "d3ba728f",
   "metadata": {},
   "source": [
    "<b>The Process Scheduler</b>\n",
    "\n",
    "This kernel subsystem is responsible for fairly distributing the CPU time among all the processes running on the system \n",
    "simultaneously.\n"
   ]
  },
  {
   "cell_type": "markdown",
   "id": "f8db6a4e",
   "metadata": {},
   "source": [
    "<b>The Memory Management Unit</b>\n",
    "\n",
    "This kernel sub-unit is responsible for proper distribution of the memory resources among the various processes running on the \n",
    "system. The MMU does more than just simply provide separate virtual address spaces for each of the processes.\n"
   ]
  },
  {
   "cell_type": "markdown",
   "id": "0a1c8810",
   "metadata": {},
   "source": [
    "<b>The Virtual File System</b>\n",
    "\n",
    "This subsystem is responsible for providing a unified interface to access stored data across different filesystems and physical \n",
    "storage media.\n"
   ]
  },
  {
   "cell_type": "markdown",
   "id": "3857d127",
   "metadata": {},
   "source": [
    "<b>The Network Subsystem</b>\n",
    "\n",
    "This allows Linux systems to connect to other systems over a network. There are a number of possible hardware devices that are \n",
    "supported, and a number of network protocols that can be used. The network subsystem abstracts both of these implementation \n",
    "details so that user processes and other kernel subsystems can access the network without necessarily knowing what physical \n",
    "devices or protocol is being used.\n"
   ]
  },
  {
   "cell_type": "markdown",
   "id": "1a7ef9de",
   "metadata": {},
   "source": [
    "<b>Inter-Process Communication</b>\n",
    "\n",
    "Processes communicate with each other and with the kernel to coordinate their activities. Linux supports a number of \n",
    "Inter-Process Communication (IPC) mechanisms. Signals and pipes are two of them but Linux also supports the System V IPC \n",
    "mechanisms named after the Unix TM release in which they first appeared.\n"
   ]
  },
  {
   "cell_type": "markdown",
   "id": "94746bdd",
   "metadata": {},
   "source": [
    "<b>Kernel Space vs User Space</b>\n",
    "\n",
    "Memory is divided into two spaces, known as kernel space and user space, sometimes referred to as kernel and user mode. \n",
    "The kernel executes in the memory area referred to as kernel space, where it executes the various services that it provides, \n",
    "whereas user space is that portion of memory where everything that doesn't operate in kernel mode runs. Software running in user\n",
    "space has access to a certain portion of the memory that is allocated at the time the process is created. The kernel has access \n",
    "to all of memory. If a process starts up, running in user space, it can access a small portion of kernel space via a set of \n",
    "system calls. The kernel developers provided these system calls that can be used by software developers to allow user space \n",
    "applications to access things like open/closing/reading/writing a file. System memory was divided in this manner to ensure that \n",
    "user processes could not access kernel space. This promotes stability and system security.\n",
    "\n"
   ]
  },
  {
   "cell_type": "code",
   "execution_count": null,
   "id": "fb1fe597",
   "metadata": {},
   "outputs": [],
   "source": []
  }
 ],
 "metadata": {
  "kernelspec": {
   "display_name": "Python 3 (ipykernel)",
   "language": "python",
   "name": "python3"
  },
  "language_info": {
   "codemirror_mode": {
    "name": "ipython",
    "version": 3
   },
   "file_extension": ".py",
   "mimetype": "text/x-python",
   "name": "python",
   "nbconvert_exporter": "python",
   "pygments_lexer": "ipython3",
   "version": "3.11.4"
  }
 },
 "nbformat": 4,
 "nbformat_minor": 5
}
