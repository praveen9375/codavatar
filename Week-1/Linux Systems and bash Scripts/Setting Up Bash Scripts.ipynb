{
 "cells": [
  {
   "cell_type": "markdown",
   "id": "e424e2d3",
   "metadata": {},
   "source": [
    "1) mkdir scripts\n",
    "2) cd scripts\n",
    "\n",
    "The above scripts create a new directory named scripts that will host all our bash scripts."
   ]
  },
  {
   "cell_type": "markdown",
   "id": "d7b4e420",
   "metadata": {},
   "source": [
    "<b>cat > hello.sh</b>\n",
    "\n",
    "The above command creates a new file named hello.sh."
   ]
  },
  {
   "cell_type": "markdown",
   "id": "bae96202",
   "metadata": {},
   "source": [
    "<b>echo 'Hello, World!'</b>\n",
    "\n",
    "Inserts the above line.\n",
    "\n",
    "<b>P.S. Press Ctrl+D to save the text to the file and come out of the cat command.</b>"
   ]
  },
  {
   "cell_type": "markdown",
   "id": "cd12dc4d",
   "metadata": {},
   "source": [
    "<b>chmod u+x hello.sh</b>\n",
    "\n",
    "makes the file hello.sh executable."
   ]
  },
  {
   "cell_type": "markdown",
   "id": "f3f43986",
   "metadata": {},
   "source": [
    "<b>bash hello.sh</b>\n",
    "\n",
    "runs your first shell script by preceding the hello.sh with your desired shell “bash”."
   ]
  },
  {
   "cell_type": "code",
   "execution_count": null,
   "id": "7fc55f65",
   "metadata": {},
   "outputs": [],
   "source": []
  }
 ],
 "metadata": {
  "kernelspec": {
   "display_name": "Python 3 (ipykernel)",
   "language": "python",
   "name": "python3"
  },
  "language_info": {
   "codemirror_mode": {
    "name": "ipython",
    "version": 3
   },
   "file_extension": ".py",
   "mimetype": "text/x-python",
   "name": "python",
   "nbconvert_exporter": "python",
   "pygments_lexer": "ipython3",
   "version": "3.11.4"
  }
 },
 "nbformat": 4,
 "nbformat_minor": 5
}
